{
  "nbformat": 4,
  "nbformat_minor": 0,
  "metadata": {
    "colab": {
      "provenance": [],
      "authorship_tag": "ABX9TyPCmTkxnPr1plFUkVitPf9B",
      "include_colab_link": true
    },
    "kernelspec": {
      "name": "python3",
      "display_name": "Python 3"
    },
    "language_info": {
      "name": "python"
    }
  },
  "cells": [
    {
      "cell_type": "markdown",
      "metadata": {
        "id": "view-in-github",
        "colab_type": "text"
      },
      "source": [
        "<a href=\"https://colab.research.google.com/github/yusun-shin/python_programming/blob/main/9%EC%A3%BC%EC%B0%A8_%EA%B3%BC%EC%A0%9C.ipynb\" target=\"_parent\"><img src=\"https://colab.research.google.com/assets/colab-badge.svg\" alt=\"Open In Colab\"/></a>"
      ]
    },
    {
      "cell_type": "code",
      "execution_count": null,
      "metadata": {
        "id": "y5JaeYWSGojn"
      },
      "outputs": [],
      "source": [
        "#1부터 5까지의 정수 리스트 만들기\n",
        "\n",
        "number_list = []\n",
        "number_list.append(1)\n",
        "number_list.append(2)\n",
        "number_list.append(3)\n",
        "number_list.append(4)\n",
        "number_list.append(5)"
      ]
    },
    {
      "cell_type": "code",
      "source": [
        "number_list = []\n",
        "for number in range(1,6):\n",
        "  number_list.append(number)"
      ],
      "metadata": {
        "id": "pk5HR0wVHHM0"
      },
      "execution_count": null,
      "outputs": []
    },
    {
      "cell_type": "code",
      "source": [
        "number_list = list(range(1,6))"
      ],
      "metadata": {
        "id": "roQYMm65HM8L"
      },
      "execution_count": null,
      "outputs": []
    },
    {
      "cell_type": "code",
      "source": [
        "#1부터 5까지의 정수 리스트 만들기 -List Comprehenshion\n",
        "number_list=[number for number in range (1,6)]\n",
        "print(number_list)"
      ],
      "metadata": {
        "colab": {
          "base_uri": "https://localhost:8080/"
        },
        "id": "2VlH4CE0Hcey",
        "outputId": "db6c0014-6b5f-45dc-b9f0-ccd822ac8e11"
      },
      "execution_count": null,
      "outputs": [
        {
          "output_type": "stream",
          "name": "stdout",
          "text": [
            "[1, 2, 3, 4, 5]\n"
          ]
        }
      ]
    },
    {
      "cell_type": "code",
      "source": [
        "#함수 적용\n",
        "number_list=[number-1 for number in range (1,6)]\n",
        "print(number_list)"
      ],
      "metadata": {
        "colab": {
          "base_uri": "https://localhost:8080/"
        },
        "id": "ByJVeBB0HxjA",
        "outputId": "a3f55f07-f9cc-43e3-c317-3124e82c786b"
      },
      "execution_count": null,
      "outputs": [
        {
          "output_type": "stream",
          "name": "stdout",
          "text": [
            "[0, 1, 2, 3, 4]\n"
          ]
        }
      ]
    },
    {
      "cell_type": "code",
      "source": [
        "#조건 적용\n",
        "a_list=[number for number in range (1,6) if number %2==1]\n",
        "print(a_list)"
      ],
      "metadata": {
        "colab": {
          "base_uri": "https://localhost:8080/"
        },
        "id": "K7gNeMMwH8h4",
        "outputId": "57c55824-2801-47e6-844c-fd8c9fe0da02"
      },
      "execution_count": null,
      "outputs": [
        {
          "output_type": "stream",
          "name": "stdout",
          "text": [
            "[1, 3, 5]\n"
          ]
        }
      ]
    },
    {
      "cell_type": "code",
      "source": [
        "#for 문을 사용한다면\n",
        "a_list=[]\n",
        "for number in range (1,6):\n",
        "  if number%2==1:\n",
        "    a_list.append(number)\n",
        "print(a_list)"
      ],
      "metadata": {
        "colab": {
          "base_uri": "https://localhost:8080/"
        },
        "id": "PIBNNfzqIPWj",
        "outputId": "1a7c513f-9604-45b6-89e2-cfe187b49da3"
      },
      "execution_count": null,
      "outputs": [
        {
          "output_type": "stream",
          "name": "stdout",
          "text": [
            "[1, 3, 5]\n"
          ]
        }
      ]
    },
    {
      "cell_type": "code",
      "source": [
        "sentence=['I', 'Love', 'Python', 'Soooooo', 'MUCH!!!']\n",
        "\n",
        "#함수 적용\n",
        "[word.lower() for word in sentence]\n",
        "\n",
        "#조건 적용\n",
        "[word for word in sentence if len(word) > 6]\n",
        "\n",
        "# 함수 적용하여 튜플로 저장\n",
        "[(x, x ** 2, x ** 3) for x in range(10)]"
      ],
      "metadata": {
        "colab": {
          "base_uri": "https://localhost:8080/"
        },
        "id": "1XFSiYjTIdiz",
        "outputId": "9437783f-2327-4d6f-9ff1-04faae11a647"
      },
      "execution_count": null,
      "outputs": [
        {
          "output_type": "execute_result",
          "data": {
            "text/plain": [
              "[(0, 0, 0),\n",
              " (1, 1, 1),\n",
              " (2, 4, 8),\n",
              " (3, 9, 27),\n",
              " (4, 16, 64),\n",
              " (5, 25, 125),\n",
              " (6, 36, 216),\n",
              " (7, 49, 343),\n",
              " (8, 64, 512),\n",
              " (9, 81, 729)]"
            ]
          },
          "metadata": {},
          "execution_count": 22
        }
      ]
    },
    {
      "cell_type": "code",
      "source": [
        "rows=range(1,4)\n",
        "cols=range(1,3)\n",
        "for row in rows:\n",
        "  for col in cols:\n",
        "    print(row,col)"
      ],
      "metadata": {
        "colab": {
          "base_uri": "https://localhost:8080/"
        },
        "id": "43erS0Y-JrAj",
        "outputId": "32910922-c347-4cdc-d055-8e2ec5e39bd4"
      },
      "execution_count": null,
      "outputs": [
        {
          "output_type": "stream",
          "name": "stdout",
          "text": [
            "1 1\n",
            "1 2\n",
            "2 1\n",
            "2 2\n",
            "3 1\n",
            "3 2\n"
          ]
        }
      ]
    },
    {
      "cell_type": "code",
      "source": [
        "rows=range(1,4)\n",
        "cols=range(1,3)\n",
        "cells=[(row,col)for row in rows for col in cols]\n",
        "for cell in cells:\n",
        "  print(cell)"
      ],
      "metadata": {
        "colab": {
          "base_uri": "https://localhost:8080/"
        },
        "id": "EbRj-YrOJ37p",
        "outputId": "46988ab2-cbc0-4c99-bb64-fbf6890eeb20"
      },
      "execution_count": null,
      "outputs": [
        {
          "output_type": "stream",
          "name": "stdout",
          "text": [
            "(1, 1)\n",
            "(1, 2)\n",
            "(2, 1)\n",
            "(2, 2)\n",
            "(3, 1)\n",
            "(3, 2)\n"
          ]
        }
      ]
    },
    {
      "cell_type": "code",
      "source": [
        "[(i,j) for i in range(5) for j in range (i)]"
      ],
      "metadata": {
        "colab": {
          "base_uri": "https://localhost:8080/"
        },
        "id": "rcrk6S30KR7W",
        "outputId": "fe067030-bdaf-4708-951c-4bc820df24fc"
      },
      "execution_count": null,
      "outputs": [
        {
          "output_type": "execute_result",
          "data": {
            "text/plain": [
              "[(1, 0),\n",
              " (2, 0),\n",
              " (2, 1),\n",
              " (3, 0),\n",
              " (3, 1),\n",
              " (3, 2),\n",
              " (4, 0),\n",
              " (4, 1),\n",
              " (4, 2),\n",
              " (4, 3)]"
            ]
          },
          "metadata": {},
          "execution_count": 25
        }
      ]
    },
    {
      "cell_type": "code",
      "source": [
        "#dictionary 예제\n",
        "word='letters'\n",
        "letter_counts={letter:word.count(letter) for letter in word}\n",
        "print(letter_counts)"
      ],
      "metadata": {
        "colab": {
          "base_uri": "https://localhost:8080/"
        },
        "id": "w2_KICWwKmxL",
        "outputId": "17f3422a-cd32-49b1-b75f-4d5c6514efc6"
      },
      "execution_count": null,
      "outputs": [
        {
          "output_type": "stream",
          "name": "stdout",
          "text": [
            "{'l': 1, 'e': 2, 't': 2, 'r': 1, 's': 1}\n"
          ]
        }
      ]
    },
    {
      "cell_type": "code",
      "source": [
        "#dictionary 다른 방식으로  코딩\n",
        "word='letters'\n",
        "letter_counts={letter:word.count(letter) for letter in set(word)}\n",
        "print(letter_counts)"
      ],
      "metadata": {
        "colab": {
          "base_uri": "https://localhost:8080/"
        },
        "id": "ITEdY6SAK2VP",
        "outputId": "c8b5b878-5ad0-4d6d-8f8b-629231ba9e1c"
      },
      "execution_count": null,
      "outputs": [
        {
          "output_type": "stream",
          "name": "stdout",
          "text": [
            "{'s': 1, 'e': 2, 'r': 1, 'l': 1, 't': 2}\n"
          ]
        }
      ]
    },
    {
      "cell_type": "code",
      "source": [
        "#Set Comprehension\n",
        "a_set={number for number in range (1,6) if number %3==1}\n",
        "print(a_set)"
      ],
      "metadata": {
        "colab": {
          "base_uri": "https://localhost:8080/"
        },
        "id": "Te-La_o9LBVr",
        "outputId": "42fcc46c-69c2-4874-f1ff-b4ed4356f2d5"
      },
      "execution_count": null,
      "outputs": [
        {
          "output_type": "stream",
          "name": "stdout",
          "text": [
            "{1, 4}\n"
          ]
        }
      ]
    },
    {
      "cell_type": "code",
      "source": [
        "# ZIP을 이용한 순회\n",
        "\n",
        "days = ['Monday', 'Tuesday', 'Wednesday']\n",
        "fruits = ['banana', 'orange', 'peach']\n",
        "drinks = ['coffee', 'tea', 'beer']\n",
        "desserts = ['tiramisu', 'ice cream', 'pie', 'pudding']\n",
        "for day, fruit, drink, dessert in zip(days, fruits, drinks, desserts):\n",
        "  print(day, \": drink\", drink, \"- eat\", fruit, \"- enjoy\", dessert)"
      ],
      "metadata": {
        "id": "-nYp-eTiLT_t",
        "colab": {
          "base_uri": "https://localhost:8080/"
        },
        "outputId": "8c9478ba-fedf-4376-bb2d-c56a8fdce51b"
      },
      "execution_count": null,
      "outputs": [
        {
          "output_type": "stream",
          "name": "stdout",
          "text": [
            "Monday : drink coffee - eat banana - enjoy tiramisu\n",
            "Tuesday : drink tea - eat orange - enjoy ice cream\n",
            "Wednesday : drink beer - eat peach - enjoy pie\n"
          ]
        }
      ]
    },
    {
      "cell_type": "code",
      "source": [
        "#zip을 이용하여 영어-프랑스 사전 만들기\n",
        "\n",
        "english = 'Monday', 'Tuesday', 'Wednesday'\n",
        "french = 'Lundi', 'Mardi', 'Mercredi'\n",
        "list( zip(english, french) )\n",
        "# [('Monday', 'Lundi'), ('Tuesday', 'Mardi'), ('Wednesday', 'Mercredi')]\n",
        "dict( zip(english, french) )\n",
        "# {'Monday': 'Lundi', 'Tuesday': 'Mardi', 'Wednesday': 'Mercredi'}"
      ],
      "metadata": {
        "colab": {
          "base_uri": "https://localhost:8080/"
        },
        "id": "1XmX2SojF4Rj",
        "outputId": "c22e7083-f711-47b5-d78f-10edf23de982"
      },
      "execution_count": null,
      "outputs": [
        {
          "output_type": "execute_result",
          "data": {
            "text/plain": [
              "{'Monday': 'Lundi', 'Tuesday': 'Mardi', 'Wednesday': 'Mercredi'}"
            ]
          },
          "metadata": {},
          "execution_count": 3
        }
      ]
    },
    {
      "cell_type": "code",
      "source": [
        "# wine, entree, dessert를 받아서 딕셔너리로 만들어 반환하는 함수\n",
        "def menu(wine, entree, dessert):\n",
        "  return {'wine': wine, 'entree': entree, 'dessert': dessert}\n",
        "\n",
        "menu('chardonnay', 'chicken', 'cake')"
      ],
      "metadata": {
        "colab": {
          "base_uri": "https://localhost:8080/"
        },
        "id": "qZD7fRuyGDUO",
        "outputId": "dae1e99d-5dfb-4bc6-f312-e5adb064a920"
      },
      "execution_count": null,
      "outputs": [
        {
          "output_type": "execute_result",
          "data": {
            "text/plain": [
              "{'wine': 'chardonnay', 'entree': 'chicken', 'dessert': 'cake'}"
            ]
          },
          "metadata": {},
          "execution_count": 5
        }
      ]
    },
    {
      "cell_type": "code",
      "source": [
        "# wine, entree, dessert를 받아서 딕셔너리로 만들어 반환하는 함수\n",
        "def menu(wine, entree, dessert):\n",
        "  return {'wine': wine, 'entree': entree, 'dessert': dessert}\n",
        "\n",
        "menu(entree='beef',dessert='bagel',wine='bordeaux')\n"
      ],
      "metadata": {
        "colab": {
          "base_uri": "https://localhost:8080/"
        },
        "id": "69XHbLfhGTYO",
        "outputId": "745e91ee-199a-4c66-9427-91239fdc7498"
      },
      "execution_count": null,
      "outputs": [
        {
          "output_type": "execute_result",
          "data": {
            "text/plain": [
              "{'wine': 'frontenac', 'entree': 'fish', 'dessert': 'flan'}"
            ]
          },
          "metadata": {},
          "execution_count": 11
        }
      ]
    },
    {
      "cell_type": "code",
      "source": [
        "# wine, entree, dessert를 받아서 딕셔너리로 만들어 반환하는 함수\n",
        "def menu(wine, entree, dessert):\n",
        "  return {'wine': wine, 'entree': entree, 'dessert': dessert}\n",
        "\n",
        "menu('frontenac', dessert='flan', entree='fish')"
      ],
      "metadata": {
        "colab": {
          "base_uri": "https://localhost:8080/"
        },
        "id": "QvoF04wwG0eB",
        "outputId": "241fda8b-4496-4be8-9a87-dfe2e869ea57"
      },
      "execution_count": null,
      "outputs": [
        {
          "output_type": "execute_result",
          "data": {
            "text/plain": [
              "{'wine': 'frontenac', 'entree': 'fish', 'dessert': 'flan'}"
            ]
          },
          "metadata": {},
          "execution_count": 12
        }
      ]
    },
    {
      "cell_type": "code",
      "source": [
        "# dessert의 기본값을 정해줌\n",
        "def menu (wine, entree, dessert='pudding'):\n",
        "  return {'wine':wine,'entree':entree,'dessert':dessert}\n",
        "\n",
        "print(menu('chardonnay','chicken'))"
      ],
      "metadata": {
        "colab": {
          "base_uri": "https://localhost:8080/"
        },
        "id": "oSu5uXf2HA-L",
        "outputId": "c4d4f650-ea0c-4c4c-a61d-20c2a66203c6"
      },
      "execution_count": null,
      "outputs": [
        {
          "output_type": "stream",
          "name": "stdout",
          "text": [
            "{'wine': 'chardonnay', 'entree': 'chicken', 'dessert': 'pudding'}\n"
          ]
        }
      ]
    },
    {
      "cell_type": "code",
      "source": [
        "# dessert의 기본값을 정해줌\n",
        "def menu (wine, entree, dessert='pudding'):\n",
        "  return {'wine':wine,'entree':entree,'dessert':dessert}\n",
        "\n",
        "menu('dunkelfelder', 'duck', 'doughnut')"
      ],
      "metadata": {
        "colab": {
          "base_uri": "https://localhost:8080/"
        },
        "id": "DJhA-_EsHyXc",
        "outputId": "b8ce4220-0514-4b6e-e12a-e6ae39587fbb"
      },
      "execution_count": null,
      "outputs": [
        {
          "output_type": "execute_result",
          "data": {
            "text/plain": [
              "{'wine': 'dunkelfelder', 'entree': 'duck', 'dessert': 'doughnut'}"
            ]
          },
          "metadata": {},
          "execution_count": 17
        }
      ]
    },
    {
      "cell_type": "code",
      "source": [
        "#ex1\n",
        "\n",
        "def menu(price, wine='chardonnay', entree='chicken', dessert='pudding'):\n",
        "  return {'price': price, 'wine': wine, 'entree': entree, 'dessert': dessert}\n",
        "\n",
        "menu(100)\n",
        "menu(price=100)\n",
        "menu(price=120, entree='beef')\n",
        "menu(dessert='bagel',price=110)\n",
        "menu('eighty''saint-pierre','fish')\n",
        "menu('hundred', wine='saint-pierre')"
      ],
      "metadata": {
        "colab": {
          "base_uri": "https://localhost:8080/"
        },
        "id": "9MszE_m2H7cK",
        "outputId": "c969ef1e-e19d-4f5a-dfcd-4960c09693c2"
      },
      "execution_count": null,
      "outputs": [
        {
          "output_type": "execute_result",
          "data": {
            "text/plain": [
              "{'price': 'hundred',\n",
              " 'wine': 'saint-pierre',\n",
              " 'entree': 'chicken',\n",
              " 'dessert': 'pudding'}"
            ]
          },
          "metadata": {},
          "execution_count": 3
        }
      ]
    },
    {
      "cell_type": "code",
      "source": [
        "#ex2 불가능한 경우\n",
        "\n",
        "def menu(price, wine='chardonnay',entree='chicken', dessert='pudding'):\n",
        "  return {'price':price,'wine':wine, 'entree':entree, 'dessert':dessert}\n",
        "\n",
        "menu()\n",
        "menu(price=100,'saint-pierre')\n",
        "menu(100,price=120)\n",
        "menu(main='cream pasta')"
      ],
      "metadata": {
        "id": "GhWk7YiBJMZv"
      },
      "execution_count": null,
      "outputs": []
    },
    {
      "cell_type": "markdown",
      "source": [
        "# Docstring"
      ],
      "metadata": {
        "id": "AGvn8Vk9jITZ"
      }
    },
    {
      "cell_type": "code",
      "source": [
        "#함수 시작 부분에 문자열을 포함하여 함수 정의에 문서를 붙일 수 있음\n",
        "\n",
        "def echo(anything):\n",
        "  'echo returns its input argument'\n",
        "  return anything\n"
      ],
      "metadata": {
        "id": "g-8i2aOyKAq0"
      },
      "execution_count": 4,
      "outputs": []
    },
    {
      "cell_type": "code",
      "source": [
        "echo(1)"
      ],
      "metadata": {
        "colab": {
          "base_uri": "https://localhost:8080/"
        },
        "id": "1CinoHi2jjwd",
        "outputId": "d849b21d-38fa-4b44-bdac-9fc60a2ae366"
      },
      "execution_count": 7,
      "outputs": [
        {
          "output_type": "execute_result",
          "data": {
            "text/plain": [
              "1"
            ]
          },
          "metadata": {},
          "execution_count": 7
        }
      ]
    },
    {
      "cell_type": "code",
      "source": [
        "help(echo)"
      ],
      "metadata": {
        "colab": {
          "base_uri": "https://localhost:8080/"
        },
        "id": "UQbLGMB7jrNQ",
        "outputId": "ad8a8cba-e41a-4bed-e915-c83e3f48dd98"
      },
      "execution_count": 8,
      "outputs": [
        {
          "output_type": "stream",
          "name": "stdout",
          "text": [
            "Help on function echo in module __main__:\n",
            "\n",
            "echo(anything)\n",
            "    echo returns its input argument\n",
            "\n"
          ]
        }
      ]
    },
    {
      "cell_type": "code",
      "source": [
        "def print_if_true(thing,check):\n",
        "  \"\"\"\n",
        "  Prints the first argument if a second argument is true.\n",
        "  The operation is:\n",
        "    1. Check whether the *second argument* is true.\n",
        "    2. If it is, print the *first argument*.\n",
        "  \"\"\"\n",
        "  if check:\n",
        "    print(thing)\n"
      ],
      "metadata": {
        "id": "18srphhMjOpG"
      },
      "execution_count": 10,
      "outputs": []
    },
    {
      "cell_type": "code",
      "source": [
        "print_if_true(\"Python\",True)"
      ],
      "metadata": {
        "colab": {
          "base_uri": "https://localhost:8080/"
        },
        "id": "LwoexbQekKR4",
        "outputId": "fa8cc49e-9ba7-4d10-9284-67663453a5ee"
      },
      "execution_count": 11,
      "outputs": [
        {
          "output_type": "stream",
          "name": "stdout",
          "text": [
            "Python\n"
          ]
        }
      ]
    },
    {
      "cell_type": "code",
      "source": [
        "print_if_true()"
      ],
      "metadata": {
        "colab": {
          "base_uri": "https://localhost:8080/",
          "height": 147
        },
        "id": "O3UWIKSrkMjh",
        "outputId": "c4604955-3760-42f8-db20-0381fdc01bee"
      },
      "execution_count": 12,
      "outputs": [
        {
          "output_type": "error",
          "ename": "TypeError",
          "evalue": "print_if_true() missing 2 required positional arguments: 'thing' and 'check'",
          "traceback": [
            "\u001b[0;31m---------------------------------------------------------------------------\u001b[0m",
            "\u001b[0;31mTypeError\u001b[0m                                 Traceback (most recent call last)",
            "\u001b[0;32m<ipython-input-12-d628a01cc178>\u001b[0m in \u001b[0;36m<cell line: 0>\u001b[0;34m()\u001b[0m\n\u001b[0;32m----> 1\u001b[0;31m \u001b[0mprint_if_true\u001b[0m\u001b[0;34m(\u001b[0m\u001b[0;34m)\u001b[0m\u001b[0;34m\u001b[0m\u001b[0;34m\u001b[0m\u001b[0m\n\u001b[0m",
            "\u001b[0;31mTypeError\u001b[0m: print_if_true() missing 2 required positional arguments: 'thing' and 'check'"
          ]
        }
      ]
    },
    {
      "cell_type": "code",
      "source": [
        "print_if_true(\"hahaha\",True)"
      ],
      "metadata": {
        "colab": {
          "base_uri": "https://localhost:8080/"
        },
        "id": "_PeDAU1AkSel",
        "outputId": "88621c0d-33f6-4c85-beea-6909898a6474"
      },
      "execution_count": 13,
      "outputs": [
        {
          "output_type": "stream",
          "name": "stdout",
          "text": [
            "hahaha\n"
          ]
        }
      ]
    },
    {
      "cell_type": "code",
      "source": [
        "help(print_if_true)"
      ],
      "metadata": {
        "colab": {
          "base_uri": "https://localhost:8080/"
        },
        "id": "KOZ3gZi7kXGS",
        "outputId": "83808a85-c7fc-42d2-a616-c6b274da1b53"
      },
      "execution_count": 14,
      "outputs": [
        {
          "output_type": "stream",
          "name": "stdout",
          "text": [
            "Help on function print_if_true in module __main__:\n",
            "\n",
            "print_if_true(thing, check)\n",
            "    Prints the first argument if a second argument is true.\n",
            "    The operation is:\n",
            "      1. Check whether the *second argument* is true.\n",
            "      2. If it is, print the *first argument*.\n",
            "\n"
          ]
        }
      ]
    },
    {
      "cell_type": "code",
      "source": [],
      "metadata": {
        "id": "yaVMXG_wkeq2"
      },
      "execution_count": null,
      "outputs": []
    }
  ]
}