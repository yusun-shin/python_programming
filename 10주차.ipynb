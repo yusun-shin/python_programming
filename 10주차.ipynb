{
  "nbformat": 4,
  "nbformat_minor": 0,
  "metadata": {
    "colab": {
      "provenance": [],
      "authorship_tag": "ABX9TyMM8vzLeXAc0zdVuTeiUmQ+",
      "include_colab_link": true
    },
    "kernelspec": {
      "name": "python3",
      "display_name": "Python 3"
    },
    "language_info": {
      "name": "python"
    }
  },
  "cells": [
    {
      "cell_type": "markdown",
      "metadata": {
        "id": "view-in-github",
        "colab_type": "text"
      },
      "source": [
        "<a href=\"https://colab.research.google.com/github/yusun-shin/python_programming/blob/main/10%EC%A3%BC%EC%B0%A8.ipynb\" target=\"_parent\"><img src=\"https://colab.research.google.com/assets/colab-badge.svg\" alt=\"Open In Colab\"/></a>"
      ]
    },
    {
      "cell_type": "code",
      "execution_count": null,
      "metadata": {
        "colab": {
          "base_uri": "https://localhost:8080/"
        },
        "id": "FSOWecL6MIqd",
        "outputId": "eb5870ba-abb6-452f-da41-0ed456afaaec"
      },
      "outputs": [
        {
          "output_type": "stream",
          "name": "stdout",
          "text": [
            "3\n",
            "7\n",
            "3\n",
            "10\n"
          ]
        }
      ],
      "source": [
        "result1=0\n",
        "result2=0\n",
        "\n",
        "def adder1(num):\n",
        "  global result1\n",
        "  result1 +=num\n",
        "  return result1\n",
        "\n",
        "def adder2(num):\n",
        "  global result2\n",
        "  result2 +=num\n",
        "  return result2\n",
        "\n",
        "print(adder1(3))\n",
        "print(adder1(4))\n",
        "print(adder2(3))\n",
        "print(adder2(7))"
      ]
    },
    {
      "cell_type": "code",
      "source": [
        "#클래스 사용, 계산기 객체 여러 개 생성\n",
        "\n",
        "class Calculator:\n",
        "    def __init__(self):\n",
        "        self.result = 0\n",
        "\n",
        "    def adder(self,num):\n",
        "        self.result += num\n",
        "        return self.result\n",
        "\n",
        "cal1=Calculator()\n",
        "cal2=Calculator()\n",
        "\n",
        "print(cal1.adder(3))\n",
        "print(cal1.adder(4))\n",
        "print(cal2.adder(3))\n",
        "print(cal2.adder(7))\n",
        "\n"
      ],
      "metadata": {
        "colab": {
          "base_uri": "https://localhost:8080/"
        },
        "id": "8JpkDVmwYAQZ",
        "outputId": "3611cd2c-c170-4799-ad56-51164e74d5ca"
      },
      "execution_count": null,
      "outputs": [
        {
          "output_type": "stream",
          "name": "stdout",
          "text": [
            "3\n",
            "7\n",
            "3\n",
            "10\n"
          ]
        }
      ]
    },
    {
      "cell_type": "code",
      "source": [
        "#클래스 변수\n",
        "\n",
        "class Service:\n",
        "  secret=\"지구는 4006년에 멸망한다.\"\n",
        "\n",
        "s=Service()\n",
        "s.secret\n"
      ],
      "metadata": {
        "colab": {
          "base_uri": "https://localhost:8080/",
          "height": 35
        },
        "id": "-yTq62pfbtLX",
        "outputId": "558f0870-6b95-47d3-af04-e6213ac5979f"
      },
      "execution_count": null,
      "outputs": [
        {
          "output_type": "execute_result",
          "data": {
            "text/plain": [
              "'지구는 4006년에 멸망한다.'"
            ],
            "application/vnd.google.colaboratory.intrinsic+json": {
              "type": "string"
            }
          },
          "metadata": {},
          "execution_count": 13
        }
      ]
    },
    {
      "cell_type": "code",
      "source": [
        "s2=Service()\n",
        "s2.secret"
      ],
      "metadata": {
        "colab": {
          "base_uri": "https://localhost:8080/",
          "height": 35
        },
        "id": "fpv8rczpdNYQ",
        "outputId": "b4d7673f-a232-40ab-b18f-6943e5ea1af9"
      },
      "execution_count": null,
      "outputs": [
        {
          "output_type": "execute_result",
          "data": {
            "text/plain": [
              "'지구는 4006년에 멸망한다.'"
            ],
            "application/vnd.google.colaboratory.intrinsic+json": {
              "type": "string"
            }
          },
          "metadata": {},
          "execution_count": 14
        }
      ]
    },
    {
      "cell_type": "markdown",
      "source": [
        "# 클래수 내부의 함수 (메서드: Method)"
      ],
      "metadata": {
        "id": "8B81g17sdVAX"
      }
    },
    {
      "cell_type": "code",
      "source": [
        "class Service:\n",
        "  secret=\"지구는 4006년에 멸망한다\"\n",
        "  def sum(self,a,b):\n",
        "    result=a+b\n",
        "    print(\"%s+%s=%s이다.\" % (a,b,result))\n"
      ],
      "metadata": {
        "id": "DgNzU7VvdSbR"
      },
      "execution_count": null,
      "outputs": []
    },
    {
      "cell_type": "code",
      "source": [
        "an=Service()"
      ],
      "metadata": {
        "id": "Lb8sVN9zeKRM"
      },
      "execution_count": null,
      "outputs": []
    },
    {
      "cell_type": "code",
      "source": [
        "an.sum(1,1)"
      ],
      "metadata": {
        "colab": {
          "base_uri": "https://localhost:8080/"
        },
        "id": "5wSVysxWeMen",
        "outputId": "5dd605e3-9c4e-411e-98b7-19ff68664d09"
      },
      "execution_count": null,
      "outputs": [
        {
          "output_type": "stream",
          "name": "stdout",
          "text": [
            "1+1=2이다.\n"
          ]
        }
      ]
    },
    {
      "cell_type": "markdown",
      "source": [
        "# Service 클래스 업그레이드"
      ],
      "metadata": {
        "id": "mAuwq57tf_A7"
      }
    },
    {
      "cell_type": "code",
      "source": [
        "from os import name\n",
        "class Service:\n",
        "  secret=\"지구는 4006년에 멸망한다\"\n",
        "\n",
        "  def setname(self,name):\n",
        "    self.name=name\n",
        "\n",
        "  def sum(self,a,b):\n",
        "    result=a+b\n",
        "    print(\"%s님, %s+%s=%s이다.\" % (self.name,a,b,result))"
      ],
      "metadata": {
        "id": "vfP8cfz3gC8q"
      },
      "execution_count": null,
      "outputs": []
    },
    {
      "cell_type": "code",
      "source": [
        "an=Service()"
      ],
      "metadata": {
        "id": "6TDqgDKmgTD_"
      },
      "execution_count": null,
      "outputs": []
    },
    {
      "cell_type": "code",
      "source": [
        "an.setname(\"박달도사\")"
      ],
      "metadata": {
        "id": "G_r-F0UVgTRE"
      },
      "execution_count": null,
      "outputs": []
    },
    {
      "cell_type": "code",
      "source": [
        "an.sum(1,1)"
      ],
      "metadata": {
        "colab": {
          "base_uri": "https://localhost:8080/"
        },
        "id": "Pqm8BPJ5geQ1",
        "outputId": "d93e28be-f018-46c7-8f5e-b02662ecb309"
      },
      "execution_count": null,
      "outputs": [
        {
          "output_type": "stream",
          "name": "stdout",
          "text": [
            "박달도사님, 1+1=2이다.\n"
          ]
        }
      ]
    },
    {
      "cell_type": "markdown",
      "source": [
        "# _init_ 은 무엇?"
      ],
      "metadata": {
        "id": "fPI91QsFhHI6"
      }
    },
    {
      "cell_type": "code",
      "source": [
        "lee=Service()"
      ],
      "metadata": {
        "id": "se69q5OIhKm0"
      },
      "execution_count": null,
      "outputs": []
    },
    {
      "cell_type": "code",
      "source": [
        "lee.sum(1,1)"
      ],
      "metadata": {
        "colab": {
          "base_uri": "https://localhost:8080/",
          "height": 239
        },
        "id": "1m-Emdn1hQdc",
        "outputId": "a791b1fc-08c8-4e2b-bd1f-1230f9a258c3"
      },
      "execution_count": null,
      "outputs": [
        {
          "output_type": "error",
          "ename": "AttributeError",
          "evalue": "'Service' object has no attribute 'name'",
          "traceback": [
            "\u001b[0;31m---------------------------------------------------------------------------\u001b[0m",
            "\u001b[0;31mAttributeError\u001b[0m                            Traceback (most recent call last)",
            "\u001b[0;32m<ipython-input-40-706ab8f80745>\u001b[0m in \u001b[0;36m<cell line: 0>\u001b[0;34m()\u001b[0m\n\u001b[0;32m----> 1\u001b[0;31m \u001b[0mlee\u001b[0m\u001b[0;34m.\u001b[0m\u001b[0msum\u001b[0m\u001b[0;34m(\u001b[0m\u001b[0;36m1\u001b[0m\u001b[0;34m,\u001b[0m\u001b[0;36m1\u001b[0m\u001b[0;34m)\u001b[0m\u001b[0;34m\u001b[0m\u001b[0;34m\u001b[0m\u001b[0m\n\u001b[0m",
            "\u001b[0;32m<ipython-input-35-058bec168f20>\u001b[0m in \u001b[0;36msum\u001b[0;34m(self, a, b)\u001b[0m\n\u001b[1;32m      8\u001b[0m   \u001b[0;32mdef\u001b[0m \u001b[0msum\u001b[0m\u001b[0;34m(\u001b[0m\u001b[0mself\u001b[0m\u001b[0;34m,\u001b[0m\u001b[0ma\u001b[0m\u001b[0;34m,\u001b[0m\u001b[0mb\u001b[0m\u001b[0;34m)\u001b[0m\u001b[0;34m:\u001b[0m\u001b[0;34m\u001b[0m\u001b[0;34m\u001b[0m\u001b[0m\n\u001b[1;32m      9\u001b[0m     \u001b[0mresult\u001b[0m\u001b[0;34m=\u001b[0m\u001b[0ma\u001b[0m\u001b[0;34m+\u001b[0m\u001b[0mb\u001b[0m\u001b[0;34m\u001b[0m\u001b[0;34m\u001b[0m\u001b[0m\n\u001b[0;32m---> 10\u001b[0;31m     \u001b[0mprint\u001b[0m\u001b[0;34m(\u001b[0m\u001b[0;34m\"%s님, %s+%s=%s이다.\"\u001b[0m \u001b[0;34m%\u001b[0m \u001b[0;34m(\u001b[0m\u001b[0mself\u001b[0m\u001b[0;34m.\u001b[0m\u001b[0mname\u001b[0m\u001b[0;34m,\u001b[0m\u001b[0ma\u001b[0m\u001b[0;34m,\u001b[0m\u001b[0mb\u001b[0m\u001b[0;34m,\u001b[0m\u001b[0mresult\u001b[0m\u001b[0;34m)\u001b[0m\u001b[0;34m)\u001b[0m\u001b[0;34m\u001b[0m\u001b[0;34m\u001b[0m\u001b[0m\n\u001b[0m",
            "\u001b[0;31mAttributeError\u001b[0m: 'Service' object has no attribute 'name'"
          ]
        }
      ]
    },
    {
      "cell_type": "code",
      "source": [
        "class Service:\n",
        "  secret=\"지구는 4006년에 멸망한다\"\n",
        "\n",
        "  def __init__(self,name):\n",
        "    self.name=name\n",
        "\n",
        "  def sum(self,a,b):\n",
        "    result=a+b\n",
        "    print(\"%s님, %s+%s=%s이다.\" % (self.name,a,b,result))"
      ],
      "metadata": {
        "id": "kGvEF1Gchd3a"
      },
      "execution_count": null,
      "outputs": []
    },
    {
      "cell_type": "code",
      "source": [
        "an=Service(\"샐리\")"
      ],
      "metadata": {
        "id": "PORwHjPDhxe9"
      },
      "execution_count": null,
      "outputs": []
    },
    {
      "cell_type": "code",
      "source": [
        "an.sum(1,1)"
      ],
      "metadata": {
        "colab": {
          "base_uri": "https://localhost:8080/"
        },
        "id": "JlS6bHCVh-m_",
        "outputId": "ee6c08f7-dfe9-4993-b980-3c82e9e7923c"
      },
      "execution_count": null,
      "outputs": [
        {
          "output_type": "stream",
          "name": "stdout",
          "text": [
            "샐리님, 1+1=2이다.\n"
          ]
        }
      ]
    },
    {
      "cell_type": "markdown",
      "source": [
        "# 사칙연산 클래스"
      ],
      "metadata": {
        "id": "vcXkwrfcifwS"
      }
    },
    {
      "cell_type": "code",
      "source": [
        "class Fourcal:\n",
        "    pass"
      ],
      "metadata": {
        "id": "ElGpKBAYihvh"
      },
      "execution_count": null,
      "outputs": []
    },
    {
      "cell_type": "code",
      "source": [
        "a=Fourcal()"
      ],
      "metadata": {
        "id": "VR_O8NYLirXV"
      },
      "execution_count": null,
      "outputs": []
    },
    {
      "cell_type": "code",
      "source": [
        "print(type(a))"
      ],
      "metadata": {
        "colab": {
          "base_uri": "https://localhost:8080/"
        },
        "id": "LeQdNFnCit19",
        "outputId": "e7636d73-611b-436d-8b4e-d9c0096e6bb9"
      },
      "execution_count": null,
      "outputs": [
        {
          "output_type": "stream",
          "name": "stdout",
          "text": [
            "<class '__main__.Fourcal'>\n"
          ]
        }
      ]
    },
    {
      "cell_type": "code",
      "source": [
        "class Fourcal:\n",
        "  def setdata(self,first,second):\n",
        "    self.first = first\n",
        "    self.second = second\n",
        "  def sum(self):\n",
        "    result=self.first+self.second\n",
        "    return result\n",
        "  def mul(self):\n",
        "    result=self.first*self.second\n",
        "    return result\n",
        "  def sub(self):\n",
        "    result=self.first-self.second\n",
        "    return result\n",
        "  def div(self):\n",
        "    result=self.first/self.second\n",
        "    return result\n"
      ],
      "metadata": {
        "id": "8ljTXzpcizm0"
      },
      "execution_count": null,
      "outputs": []
    },
    {
      "cell_type": "code",
      "source": [
        "a=Fourcal()"
      ],
      "metadata": {
        "id": "yAx9__mmjJiU"
      },
      "execution_count": null,
      "outputs": []
    },
    {
      "cell_type": "code",
      "source": [
        "a.setdata(4,2)"
      ],
      "metadata": {
        "id": "yzdvIg4VjOUJ"
      },
      "execution_count": null,
      "outputs": []
    },
    {
      "cell_type": "code",
      "source": [
        "a.sum()"
      ],
      "metadata": {
        "colab": {
          "base_uri": "https://localhost:8080/"
        },
        "id": "Ki5bIJ9njtqF",
        "outputId": "dd1baee5-b41f-4360-d7fd-4503d6b03d6b"
      },
      "execution_count": null,
      "outputs": [
        {
          "output_type": "execute_result",
          "data": {
            "text/plain": [
              "6"
            ]
          },
          "metadata": {},
          "execution_count": 65
        }
      ]
    },
    {
      "cell_type": "code",
      "source": [
        "a.div()"
      ],
      "metadata": {
        "colab": {
          "base_uri": "https://localhost:8080/"
        },
        "id": "Y_eAZvHGj3qR",
        "outputId": "0b1a69e5-a189-4105-a52a-899fd42c17ca"
      },
      "execution_count": null,
      "outputs": [
        {
          "output_type": "execute_result",
          "data": {
            "text/plain": [
              "2.0"
            ]
          },
          "metadata": {},
          "execution_count": 66
        }
      ]
    },
    {
      "cell_type": "code",
      "source": [
        "a.mul()"
      ],
      "metadata": {
        "colab": {
          "base_uri": "https://localhost:8080/"
        },
        "id": "BgBXBh7HkCu_",
        "outputId": "e98a5302-6b1d-4461-9040-97a74db51bd7"
      },
      "execution_count": null,
      "outputs": [
        {
          "output_type": "execute_result",
          "data": {
            "text/plain": [
              "8"
            ]
          },
          "metadata": {},
          "execution_count": 67
        }
      ]
    },
    {
      "cell_type": "markdown",
      "source": [
        "# 간단한 주사위 게임 - 순차적 프로그래밍"
      ],
      "metadata": {
        "id": "PJJWK90lkaQn"
      }
    },
    {
      "cell_type": "code",
      "source": [
        "import random\n",
        "\n",
        "player1_dice=[]\n",
        "player2_dice=[]\n",
        "\n",
        "for i in range (3):\n",
        "  player1_dice.append(random.randint(1,6))\n",
        "  player2_dice.append(random.randint(1,6))\n",
        "\n",
        "print(\"player 1 rolled\"+str(player1_dice))\n",
        "print(\"player 2 rolled\"+str(player2_dice))\n",
        "\n",
        "if sum(player1_dice) == sum(player2_dice):\n",
        "  print(\"draw\")\n",
        "elif sum(player1_dice) > sum(player2_dice):\n",
        "  print(\"player 1 wins\")\n",
        "else:\n",
        "  print(\"player 2 wins\")"
      ],
      "metadata": {
        "colab": {
          "base_uri": "https://localhost:8080/"
        },
        "id": "Gd9F4YcfkdTk",
        "outputId": "9cbe800c-4a1a-440b-b39b-40c9fe508dbe"
      },
      "execution_count": null,
      "outputs": [
        {
          "output_type": "stream",
          "name": "stdout",
          "text": [
            "player 1 rolled[2, 1, 4]\n",
            "player 2 rolled[4, 3, 6]\n",
            "player 2 wins\n"
          ]
        }
      ]
    },
    {
      "cell_type": "code",
      "source": [
        "from random import randint\n",
        "\n",
        "class Player:\n",
        "  def __init__ (self):\n",
        "    self.dice=[]\n",
        "\n",
        "  def roll(self):\n",
        "      self.dice=[]\n",
        "      for i in range(3):\n",
        "        self.dice.append(randint(1,6))\n",
        "\n",
        "  def get_dice(self):\n",
        "      return self.dice\n",
        "\n",
        "player1=Player()\n",
        "player2=Player()\n",
        "\n",
        "player1.roll()\n",
        "player2.roll()\n",
        "\n",
        "print(\"player 1 rolled\"+str(player1.get_dice()))\n",
        "print(\"player 2 rolled\"+str(player2.get_dice()))\n",
        "\n",
        "if sum(player1.get_dice()) == sum(player2.get_dice()):\n",
        "  print(\"draw\")\n",
        "elif sum(player1.get_dice()) > sum(player2.get_dice()):\n",
        "  print(\"player 1 wins\")\n",
        "else:\n",
        "  print(\"player 2 wins\")"
      ],
      "metadata": {
        "colab": {
          "base_uri": "https://localhost:8080/"
        },
        "id": "pkjHPG7Xmtv6",
        "outputId": "8c04983a-5954-4d82-de92-60074c65088f"
      },
      "execution_count": null,
      "outputs": [
        {
          "output_type": "stream",
          "name": "stdout",
          "text": [
            "player 1 rolled[6, 6, 4]\n",
            "player 2 rolled[1, 3, 2]\n",
            "player 1 wins\n"
          ]
        }
      ]
    }
  ]
}