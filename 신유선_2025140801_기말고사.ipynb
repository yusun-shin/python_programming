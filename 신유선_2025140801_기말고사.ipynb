{
  "nbformat": 4,
  "nbformat_minor": 0,
  "metadata": {
    "colab": {
      "provenance": [],
      "authorship_tag": "ABX9TyP/PJHdbnfLY+1CujMld58H",
      "include_colab_link": true
    },
    "kernelspec": {
      "name": "python3",
      "display_name": "Python 3"
    },
    "language_info": {
      "name": "python"
    }
  },
  "cells": [
    {
      "cell_type": "markdown",
      "metadata": {
        "id": "view-in-github",
        "colab_type": "text"
      },
      "source": [
        "<a href=\"https://colab.research.google.com/github/yusun-shin/python_programming/blob/main/%EC%8B%A0%EC%9C%A0%EC%84%A0_2025140801_%EA%B8%B0%EB%A7%90%EA%B3%A0%EC%82%AC.ipynb\" target=\"_parent\"><img src=\"https://colab.research.google.com/assets/colab-badge.svg\" alt=\"Open In Colab\"/></a>"
      ]
    },
    {
      "cell_type": "code",
      "execution_count": 44,
      "metadata": {
        "id": "lnsxzErKcBoB"
      },
      "outputs": [],
      "source": []
    },
    {
      "cell_type": "markdown",
      "source": [
        "#기존\n",
        "\n",
        "[기말고사 코딩 문제]\n",
        "\n",
        "https://www.data4library.kr/openDataL (외부 사이트로 연결합니다.) 사이트에서 \"성동구립성수도서관 장서 대출 목록\"을 다운로드 받아 데이터를 분석한다.\n",
        "\n",
        "\"성동구립도서관 장서 대출목록 (2023년 11월)\"과 \"성동구립도서관 장서 대출목록 (2020년 11월)\" 데이터를 비교하여 어떠한 변화가 있는 지 아래와 같은 부분을 확인하면서 살펴보고 그 결과를 notebook에서 output으로 출력하여 파일을 제출한다.\n",
        "\n",
        "(주의) 소스 코드 유사도 검사를 통해  수강생 간 코드의 유사성을 검사할 예정.\n",
        "\n",
        "\n",
        "\n",
        "1. 2020년 11월과 비교하여 2023년 11월 시점에서 추가된 도서의 목록 및 개수\n",
        "\n",
        "2. 2020년 11월과 비교하여 2023년 11월 시점에서 없어진 도서의 목록 및 개수\n",
        "\n",
        "3. 2020년 11월과 2023년 11월 가장 대출이 많이 발생한 도서 상위 20권의 리스트와 그 빈도수 비교\n",
        "\n",
        "4. 2020년 11월과 2023년 11월 가장 대출이 많이 발생한 도서 상위 100권 중 동일한 도서의 리스트와 그 개수 (100권이 적당하지 않으면 숫자를 조정 가능)\n",
        "\n",
        "5. 2020년 11월 가장 대출이 많이 발생한 도서 상위 50권의 당시 대출 횟수와 현재 대출 횟수 비교하여 증가한 도서와 감소한 도서 파악, 그래프로 표현\n",
        "\n",
        "6. 위의 통계를 도출하면서 필요한 전처리 (중복 제거, 누락값 처리, 잘못된 값 처리 등)를 강의 내용을 참고하여 수행\n",
        "\n",
        "7. 위의 통계 외에도 2020년과 2023년을 비교하기에 유의미하다고 여겨지는 분석을 각자 수행하고 그 결과물을 그래프로 표현. 결과에 대한 분석을 코드에 추가 (텍스트, 주석 등)\n",
        "\n"
      ],
      "metadata": {
        "id": "wmX-yk60dCSW"
      }
    },
    {
      "cell_type": "markdown",
      "source": [
        "#2025년 1학기 기말고사 작성 문제\n",
        "\n",
        "[기말고사 코딩 문제]\n",
        "https://www.data4library.kr/openDataL (외부 사이트로 연결합니다.) 사이트에서 \"성동구립성수도서관 장서 대출 목록\"을 다운로드 받아 데이터를 분석한다.\n",
        "\"성동구립도서관 장서 대출목록 (2025년 5월)\"과 \"성동구립도서관 장서 대출목록 (2025년 4월)\" 데이터를 비교하여 어떠한 변화가 있는 지 아래와 같은 부분을 확인하면서 살펴보고 그 결과를 notebook에서 output으로 출력하여 파일을 제출한다.\n",
        "\n",
        "2025년 5월 기준 인기 있는 주제분류 번호와 그에 대한 빈도 그래프\n",
        "\n",
        "인기 있는 주제 분류에 대한 2025년 4월과 2025년 5월에 대한 비교 그래프\n",
        "\n",
        "2025년 4월과 비교하여 2025년 5월 시점에서 추가되고 없어진 도서의 목록 및 개수\n",
        "\n",
        "\n",
        "2025년 4월과 2025년 5월 대출 도서 중 저자 기준으로 가장 많은 도서의 목록 및 개수 비교\n",
        "\n",
        "\n"
      ],
      "metadata": {
        "id": "thxhlqHCeDzk"
      }
    },
    {
      "cell_type": "markdown",
      "source": [
        "# 상기 문제에 대한 과제 수행 (1번~4번)\n",
        "\n",
        "문제는 2023년 기말고사 문제를 바탕으로 스스로 작성하였으며 각 문제에서 정확히 측정하는 역량을 Chat gpt의 도움을 받아 기입함.\n",
        "작성한 문제를 Chat GPT에 넣어 문제 풀이를 수행함."
      ],
      "metadata": {
        "id": "wPqhl6-TyE0P"
      }
    },
    {
      "cell_type": "code",
      "source": [
        "from google.colab import files\n",
        "\n",
        "uploaded = files.upload()"
      ],
      "metadata": {
        "colab": {
          "base_uri": "https://localhost:8080/",
          "height": 113
        },
        "id": "Tn1fNOC1nY1N",
        "outputId": "32d2dc8c-134b-49ff-9e1f-2a81aba6778a"
      },
      "execution_count": 45,
      "outputs": [
        {
          "output_type": "display_data",
          "data": {
            "text/plain": [
              "<IPython.core.display.HTML object>"
            ],
            "text/html": [
              "\n",
              "     <input type=\"file\" id=\"files-7bbcf12a-3fbb-47ae-a097-852ebb76e971\" name=\"files[]\" multiple disabled\n",
              "        style=\"border:none\" />\n",
              "     <output id=\"result-7bbcf12a-3fbb-47ae-a097-852ebb76e971\">\n",
              "      Upload widget is only available when the cell has been executed in the\n",
              "      current browser session. Please rerun this cell to enable.\n",
              "      </output>\n",
              "      <script>// Copyright 2017 Google LLC\n",
              "//\n",
              "// Licensed under the Apache License, Version 2.0 (the \"License\");\n",
              "// you may not use this file except in compliance with the License.\n",
              "// You may obtain a copy of the License at\n",
              "//\n",
              "//      http://www.apache.org/licenses/LICENSE-2.0\n",
              "//\n",
              "// Unless required by applicable law or agreed to in writing, software\n",
              "// distributed under the License is distributed on an \"AS IS\" BASIS,\n",
              "// WITHOUT WARRANTIES OR CONDITIONS OF ANY KIND, either express or implied.\n",
              "// See the License for the specific language governing permissions and\n",
              "// limitations under the License.\n",
              "\n",
              "/**\n",
              " * @fileoverview Helpers for google.colab Python module.\n",
              " */\n",
              "(function(scope) {\n",
              "function span(text, styleAttributes = {}) {\n",
              "  const element = document.createElement('span');\n",
              "  element.textContent = text;\n",
              "  for (const key of Object.keys(styleAttributes)) {\n",
              "    element.style[key] = styleAttributes[key];\n",
              "  }\n",
              "  return element;\n",
              "}\n",
              "\n",
              "// Max number of bytes which will be uploaded at a time.\n",
              "const MAX_PAYLOAD_SIZE = 100 * 1024;\n",
              "\n",
              "function _uploadFiles(inputId, outputId) {\n",
              "  const steps = uploadFilesStep(inputId, outputId);\n",
              "  const outputElement = document.getElementById(outputId);\n",
              "  // Cache steps on the outputElement to make it available for the next call\n",
              "  // to uploadFilesContinue from Python.\n",
              "  outputElement.steps = steps;\n",
              "\n",
              "  return _uploadFilesContinue(outputId);\n",
              "}\n",
              "\n",
              "// This is roughly an async generator (not supported in the browser yet),\n",
              "// where there are multiple asynchronous steps and the Python side is going\n",
              "// to poll for completion of each step.\n",
              "// This uses a Promise to block the python side on completion of each step,\n",
              "// then passes the result of the previous step as the input to the next step.\n",
              "function _uploadFilesContinue(outputId) {\n",
              "  const outputElement = document.getElementById(outputId);\n",
              "  const steps = outputElement.steps;\n",
              "\n",
              "  const next = steps.next(outputElement.lastPromiseValue);\n",
              "  return Promise.resolve(next.value.promise).then((value) => {\n",
              "    // Cache the last promise value to make it available to the next\n",
              "    // step of the generator.\n",
              "    outputElement.lastPromiseValue = value;\n",
              "    return next.value.response;\n",
              "  });\n",
              "}\n",
              "\n",
              "/**\n",
              " * Generator function which is called between each async step of the upload\n",
              " * process.\n",
              " * @param {string} inputId Element ID of the input file picker element.\n",
              " * @param {string} outputId Element ID of the output display.\n",
              " * @return {!Iterable<!Object>} Iterable of next steps.\n",
              " */\n",
              "function* uploadFilesStep(inputId, outputId) {\n",
              "  const inputElement = document.getElementById(inputId);\n",
              "  inputElement.disabled = false;\n",
              "\n",
              "  const outputElement = document.getElementById(outputId);\n",
              "  outputElement.innerHTML = '';\n",
              "\n",
              "  const pickedPromise = new Promise((resolve) => {\n",
              "    inputElement.addEventListener('change', (e) => {\n",
              "      resolve(e.target.files);\n",
              "    });\n",
              "  });\n",
              "\n",
              "  const cancel = document.createElement('button');\n",
              "  inputElement.parentElement.appendChild(cancel);\n",
              "  cancel.textContent = 'Cancel upload';\n",
              "  const cancelPromise = new Promise((resolve) => {\n",
              "    cancel.onclick = () => {\n",
              "      resolve(null);\n",
              "    };\n",
              "  });\n",
              "\n",
              "  // Wait for the user to pick the files.\n",
              "  const files = yield {\n",
              "    promise: Promise.race([pickedPromise, cancelPromise]),\n",
              "    response: {\n",
              "      action: 'starting',\n",
              "    }\n",
              "  };\n",
              "\n",
              "  cancel.remove();\n",
              "\n",
              "  // Disable the input element since further picks are not allowed.\n",
              "  inputElement.disabled = true;\n",
              "\n",
              "  if (!files) {\n",
              "    return {\n",
              "      response: {\n",
              "        action: 'complete',\n",
              "      }\n",
              "    };\n",
              "  }\n",
              "\n",
              "  for (const file of files) {\n",
              "    const li = document.createElement('li');\n",
              "    li.append(span(file.name, {fontWeight: 'bold'}));\n",
              "    li.append(span(\n",
              "        `(${file.type || 'n/a'}) - ${file.size} bytes, ` +\n",
              "        `last modified: ${\n",
              "            file.lastModifiedDate ? file.lastModifiedDate.toLocaleDateString() :\n",
              "                                    'n/a'} - `));\n",
              "    const percent = span('0% done');\n",
              "    li.appendChild(percent);\n",
              "\n",
              "    outputElement.appendChild(li);\n",
              "\n",
              "    const fileDataPromise = new Promise((resolve) => {\n",
              "      const reader = new FileReader();\n",
              "      reader.onload = (e) => {\n",
              "        resolve(e.target.result);\n",
              "      };\n",
              "      reader.readAsArrayBuffer(file);\n",
              "    });\n",
              "    // Wait for the data to be ready.\n",
              "    let fileData = yield {\n",
              "      promise: fileDataPromise,\n",
              "      response: {\n",
              "        action: 'continue',\n",
              "      }\n",
              "    };\n",
              "\n",
              "    // Use a chunked sending to avoid message size limits. See b/62115660.\n",
              "    let position = 0;\n",
              "    do {\n",
              "      const length = Math.min(fileData.byteLength - position, MAX_PAYLOAD_SIZE);\n",
              "      const chunk = new Uint8Array(fileData, position, length);\n",
              "      position += length;\n",
              "\n",
              "      const base64 = btoa(String.fromCharCode.apply(null, chunk));\n",
              "      yield {\n",
              "        response: {\n",
              "          action: 'append',\n",
              "          file: file.name,\n",
              "          data: base64,\n",
              "        },\n",
              "      };\n",
              "\n",
              "      let percentDone = fileData.byteLength === 0 ?\n",
              "          100 :\n",
              "          Math.round((position / fileData.byteLength) * 100);\n",
              "      percent.textContent = `${percentDone}% done`;\n",
              "\n",
              "    } while (position < fileData.byteLength);\n",
              "  }\n",
              "\n",
              "  // All done.\n",
              "  yield {\n",
              "    response: {\n",
              "      action: 'complete',\n",
              "    }\n",
              "  };\n",
              "}\n",
              "\n",
              "scope.google = scope.google || {};\n",
              "scope.google.colab = scope.google.colab || {};\n",
              "scope.google.colab._files = {\n",
              "  _uploadFiles,\n",
              "  _uploadFilesContinue,\n",
              "};\n",
              "})(self);\n",
              "</script> "
            ]
          },
          "metadata": {}
        },
        {
          "output_type": "stream",
          "name": "stdout",
          "text": [
            "Saving 성동구립도서관 장서 대출목록 (2025년 04월).csv to 성동구립도서관 장서 대출목록 (2025년 04월) (2).csv\n",
            "Saving 성동구립도서관 장서 대출목록 (2025년 05월).csv to 성동구립도서관 장서 대출목록 (2025년 05월) (2).csv\n"
          ]
        }
      ]
    },
    {
      "cell_type": "code",
      "source": [
        "import pandas as pd\n",
        "\n",
        "# 2025년 4월 데이터 불러오기\n",
        "df_april = pd.read_csv(\"성동구립도서관 장서 대출목록 (2025년 04월).csv\", encoding=\"cp949\")\n",
        "\n",
        "# 2025년 5월 데이터 불러오기\n",
        "df_may = pd.read_csv(\"성동구립도서관 장서 대출목록 (2025년 05월).csv\", encoding=\"cp949\")\n",
        "\n",
        "# 데이터 확인\n",
        "print(df_april.head())\n",
        "print(df_may.head())\n"
      ],
      "metadata": {
        "colab": {
          "base_uri": "https://localhost:8080/"
        },
        "id": "O5C8GROzo2K8",
        "outputId": "280b4161-0357-47ee-91c4-d8677682e76d"
      },
      "execution_count": 46,
      "outputs": [
        {
          "output_type": "stream",
          "name": "stderr",
          "text": [
            "/tmp/ipython-input-46-1243594165.py:4: DtypeWarning: Columns (5,8,9) have mixed types. Specify dtype option on import or set low_memory=False.\n",
            "  df_april = pd.read_csv(\"성동구립도서관 장서 대출목록 (2025년 04월).csv\", encoding=\"cp949\")\n"
          ]
        },
        {
          "output_type": "stream",
          "name": "stdout",
          "text": [
            "   번호                  도서명                   저자            출판사  발행년도  \\\n",
            "0   1  오늘도 조이풀하게!:박산호 장편소설             지은이: 박산호         책이라는신화  2024   \n",
            "1   2      (꼬불꼬불나라의) 돈 이야기         서해경 글;정우열 그림          풀빛미디어  2024   \n",
            "2   3         붕붕이와 친구들의 모험          김목 지음;긍긍 그림           우리교육  2021   \n",
            "3   4                 너의 섬  글·그림: 존 클라센;옮김: 서남희  주니어RHK(주니어랜덤)  2025   \n",
            "4   5           꼬꼬?:홍홍 그림책              홍홍 글·그림          길벗어린이  2025   \n",
            "\n",
            "            ISBN  세트 ISBN 부가기호    권  주제분류번호  도서권수  대출건수        등록일자  \\\n",
            "0  9791198700100      NaN    4  NaN   813.7     1     0  2025-04-30   \n",
            "1  9788967342036      NaN    7  NaN  370.86     1     1  2025-04-29   \n",
            "2  9791192665108      NaN    7  NaN   808.9     1     0  2025-04-29   \n",
            "3  9788925574509      NaN    7  NaN   375.1     1     0  2025-04-29   \n",
            "4  9788955827927      NaN    7  NaN   808.9     1     0  2025-04-29   \n",
            "\n",
            "   Unnamed: 13  \n",
            "0          NaN  \n",
            "1          NaN  \n",
            "2          NaN  \n",
            "3          NaN  \n",
            "4          NaN  \n",
            "   번호                   도서명                             저자    출판사  발행년도  \\\n",
            "0   1  드래곤 마스터:어스퀘이크 드래곤의 눈  트레이시 웨스트 글;니나 드 폴로니아 그림;윤영 옮김  다산어린이  2025   \n",
            "1   2           전사들:그림자의 환영                에린 헌터 지음;서현정 옮김  가람어린이  2025   \n",
            "2   3      고양이 타타: 너를 만난 여름                        로로 글·그림  다산어린이  2025   \n",
            "3   4        아빠, 비상계엄이 뭐예요?                  이경재 지음;손이아 그림     홍림  2025   \n",
            "4   5     Go Go 카카오프렌즈:포르투갈                   김미영 글;김정한 그림    아울북  2025   \n",
            "\n",
            "            ISBN  세트 ISBN 부가기호    권 주제분류번호  도서권수  대출건수        등록일자  \\\n",
            "0  9791130656137      NaN    7  NaN    843     1     0  2025-05-30   \n",
            "1  9791165183783      NaN    7    1  843.6     1     1  2025-05-30   \n",
            "2  9791130665566      NaN    0  NaN  813.7     1     1  2025-05-30   \n",
            "3  9788969340597      NaN    7  NaN    320     1     1  2025-05-30   \n",
            "4  9791173572128      NaN    7  NaN    909     1     1  2025-05-30   \n",
            "\n",
            "   Unnamed: 13  \n",
            "0          NaN  \n",
            "1          NaN  \n",
            "2          NaN  \n",
            "3          NaN  \n",
            "4          NaN  \n"
          ]
        },
        {
          "output_type": "stream",
          "name": "stderr",
          "text": [
            "/tmp/ipython-input-46-1243594165.py:7: DtypeWarning: Columns (5,8,9) have mixed types. Specify dtype option on import or set low_memory=False.\n",
            "  df_may = pd.read_csv(\"성동구립도서관 장서 대출목록 (2025년 05월).csv\", encoding=\"cp949\")\n"
          ]
        }
      ]
    },
    {
      "cell_type": "markdown",
      "source": [
        "#문제 1"
      ],
      "metadata": {
        "id": "GZ8DHxG_yfwX"
      }
    },
    {
      "cell_type": "code",
      "source": [
        "#문제: 2025년 5월 기준 인기 있는 주제분류 번호와 그에 대한 빈도 그래프\n",
        "# 평가 기능/역량: 카테고리형 변수 집계 능력\n",
        "# 라이브러리 불러오기\n",
        "import pandas as pd\n",
        "import matplotlib.pyplot as plt\n",
        "\n",
        "# 데이터 불러오기\n",
        "df_may = pd.read_csv(\"성동구립도서관 장서 대출목록 (2025년 05월).csv\", encoding=\"cp949\")\n",
        "df_may.columns = df_may.columns.str.strip()\n",
        "\n",
        "# 주제분류번호 기준 상위 10개\n",
        "subject_counts = df_may['주제분류번호'].dropna().value_counts().head(10)\n",
        "\n",
        "# 영어로 그래프 작성\n",
        "plt.figure(figsize=(10, 6))\n",
        "subject_counts.plot(kind='bar', color='skyblue')\n",
        "plt.title(\"Top 10 Classification Codes - May 2025\")   # 영어로 대체\n",
        "plt.xlabel(\"Subject Classification Code\")\n",
        "plt.ylabel(\"Borrow Count\")\n",
        "plt.xticks(rotation=45)\n",
        "plt.grid(axis='y', linestyle='--', alpha=0.7)\n",
        "plt.tight_layout()\n",
        "plt.show()\n",
        "\n",
        "\n"
      ],
      "metadata": {
        "colab": {
          "base_uri": "https://localhost:8080/",
          "height": 644
        },
        "id": "yK_3nc1XtDww",
        "outputId": "d73e0711-d214-48fa-995a-8e2daaa2be88"
      },
      "execution_count": 1,
      "outputs": [
        {
          "output_type": "stream",
          "name": "stderr",
          "text": [
            "/tmp/ipython-input-1-827306631.py:8: DtypeWarning: Columns (5,8,9) have mixed types. Specify dtype option on import or set low_memory=False.\n",
            "  df_may = pd.read_csv(\"성동구립도서관 장서 대출목록 (2025년 05월).csv\", encoding=\"cp949\")\n"
          ]
        },
        {
          "output_type": "display_data",
          "data": {
            "text/plain": [
              "<Figure size 1000x600 with 1 Axes>"
            ],
            "image/png": "[encoded data removed]"
          },
          "metadata": {}
        }
      ]
    },
    {
      "cell_type": "markdown",
      "source": [
        "#문제 2"
      ],
      "metadata": {
        "id": "Yu8YkMQeyjJH"
      }
    },
    {
      "cell_type": "code",
      "source": [
        "#문제: 2025년 4월과 비교하여 2025년 5월 시점에서 추가되고 없어진 도서의 목록 및 개수\n",
        "#평가 기능/역량: 두 데이터셋 간의 차집합(set difference) 연산 수행 능력\n",
        "import pandas as pd\n",
        "\n",
        "# CSV 불러오기\n",
        "df_apr = pd.read_csv(\"성동구립도서관 장서 대출목록 (2025년 04월).csv\", encoding=\"cp949\")\n",
        "df_may = pd.read_csv(\"성동구립도서관 장서 대출목록 (2025년 05월).csv\", encoding=\"cp949\")\n",
        "\n",
        "# 열 이름 정리\n",
        "df_apr.columns = df_apr.columns.str.strip()\n",
        "df_may.columns = df_may.columns.str.strip()\n",
        "\n",
        "# 비교 기준을 도서명으로 설정 (고유 식별자로 ISBN을 써도 됨)\n",
        "books_apr = set(df_apr['도서명'].dropna().unique())\n",
        "books_may = set(df_may['도서명'].dropna().unique())\n",
        "\n",
        "# 5월에 추가된 도서 (4월에는 없었음)\n",
        "added_books = books_may - books_apr\n",
        "removed_books = books_apr - books_may\n",
        "\n",
        "# 출력\n",
        "print(\"📗 추가된 도서 수:\", len(added_books))\n",
        "print(\"📕 제거된 도서 수:\", len(removed_books))\n",
        "\n",
        "# 추가/제거된 도서 목록 일부 확인\n",
        "print(\"\\n📗 추가된 도서 예시:\")\n",
        "print(list(added_books)[:10])\n",
        "\n",
        "print(\"\\n📕 제거된 도서 예시:\")\n",
        "print(list(removed_books)[:10])\n"
      ],
      "metadata": {
        "colab": {
          "base_uri": "https://localhost:8080/"
        },
        "id": "eYU28GnDmqLc",
        "outputId": "9153d9ef-d3c7-43de-a84d-540af7f422fa"
      },
      "execution_count": 3,
      "outputs": [
        {
          "output_type": "stream",
          "name": "stderr",
          "text": [
            "/tmp/ipython-input-3-259871935.py:6: DtypeWarning: Columns (5,8,9) have mixed types. Specify dtype option on import or set low_memory=False.\n",
            "  df_apr = pd.read_csv(\"성동구립도서관 장서 대출목록 (2025년 04월).csv\", encoding=\"cp949\")\n",
            "/tmp/ipython-input-3-259871935.py:7: DtypeWarning: Columns (5,8,9) have mixed types. Specify dtype option on import or set low_memory=False.\n",
            "  df_may = pd.read_csv(\"성동구립도서관 장서 대출목록 (2025년 05월).csv\", encoding=\"cp949\")\n"
          ]
        },
        {
          "output_type": "stream",
          "name": "stdout",
          "text": [
            "📗 추가된 도서 수: 316\n",
            "📕 제거된 도서 수: 7\n",
            "\n",
            "📗 추가된 도서 예시:\n",
            "['(삶의 무기가 되는) 회계 입문:숫자로 꿰뚫어 보는 일의 본질', 'Unstoppable:the ultimate biography of Max Verstappen', '우리가 잊고 있던 날들:화가의 눈으로 그려낸 찬란한 어린 시절', '은퇴 후 보이는 것들', '가끔은 그저 흘러가도 돼', '불새:신종원 장편소설', '백만 번의 세계가 끝날 무렵', '별에게:안녕달 그림책', '(이웃집 프로파일러)하이다의 사건 파일:표창원의 미스터리 추리 동화.', \"케이블루의 러블리 헝겊 인형==K.Blue's lobely rag doll\"]\n",
            "\n",
            "📕 제거된 도서 예시:\n",
            "['(만화)갈릴레이 두 우주 체계에 대한 대화', 'Amber Brown wants extra credit', '(만화)대학', 'Eloise and the snowman', 'Chrysanthemum', 'Pop-Up Peekaboo:Baby Dinosaur', '프리젠테이션 젠 디자인:눈길을 사로잡는 심플한 디자인 원리와 기법']\n"
          ]
        }
      ]
    },
    {
      "cell_type": "markdown",
      "source": [
        "#문제 3"
      ],
      "metadata": {
        "id": "U-ADBph9yrKI"
      }
    },
    {
      "cell_type": "code",
      "source": [
        "#문제 : 2025년 4월과 2025년 5월 대출 도서 중 저자 기준으로 가장 많은 도서의 목록 및 개수 비교\n",
        "#평가 기능/역량: 문자열 데이터 그룹화 및 빈도 분석\n",
        "import pandas as pd\n",
        "\n",
        "# 데이터 불러오기\n",
        "df_apr = pd.read_csv(\"성동구립도서관 장서 대출목록 (2025년 04월).csv\", encoding=\"cp949\")\n",
        "df_may = pd.read_csv(\"성동구립도서관 장서 대출목록 (2025년 05월).csv\", encoding=\"cp949\")\n",
        "\n",
        "# 열 이름 정리\n",
        "df_apr.columns = df_apr.columns.str.strip()\n",
        "df_may.columns = df_may.columns.str.strip()\n",
        "\n",
        "# 저자 기준으로 도서 수 집계 (중복 제거 포함 가능)\n",
        "top_authors_apr = df_apr['저자'].dropna().value_counts().rename(\"April\")\n",
        "top_authors_may = df_may['저자'].dropna().value_counts().rename(\"May\")\n",
        "\n",
        "# 두 시점 비교\n",
        "merged_authors = pd.concat([top_authors_apr, top_authors_may], axis=1).fillna(0)\n",
        "\n",
        "# 5월 기준 상위 10명 추출\n",
        "top10_authors = merged_authors.sort_values(by=\"May\", ascending=False).head(10)\n",
        "\n",
        "# 출력\n",
        "print(\"📚 저자별 도서 수 비교 (2025년 4월 vs 5월):\")\n",
        "print(top10_authors)\n"
      ],
      "metadata": {
        "colab": {
          "base_uri": "https://localhost:8080/"
        },
        "id": "hgJMYFCxm6n7",
        "outputId": "c9054e5e-b936-432e-c879-471abae22e04"
      },
      "execution_count": 4,
      "outputs": [
        {
          "output_type": "stream",
          "name": "stderr",
          "text": [
            "/tmp/ipython-input-4-2508234957.py:6: DtypeWarning: Columns (5,8,9) have mixed types. Specify dtype option on import or set low_memory=False.\n",
            "  df_apr = pd.read_csv(\"성동구립도서관 장서 대출목록 (2025년 04월).csv\", encoding=\"cp949\")\n",
            "/tmp/ipython-input-4-2508234957.py:7: DtypeWarning: Columns (5,8,9) have mixed types. Specify dtype option on import or set low_memory=False.\n",
            "  df_may = pd.read_csv(\"성동구립도서관 장서 대출목록 (2025년 05월).csv\", encoding=\"cp949\")\n"
          ]
        },
        {
          "output_type": "stream",
          "name": "stdout",
          "text": [
            "📚 저자별 도서 수 비교 (2025년 4월 vs 5월):\n",
            "                                                  April    May\n",
            "저자                                                            \n",
            "김강현 글;김기수 그림                                      155.0  155.0\n",
            "백명식 글·그림                                          146.0  146.0\n",
            "야마오카 소하치 지음;박재희 옮김                                145.0  145.0\n",
            "[by] Roderick Hunt;[illustrated by] Alex Brychta  135.0  135.0\n",
            "김진명 지음                                            124.0  124.0\n",
            "시바 료타로 지음;박재희 옮김                                  118.0  118.0\n",
            "story by Roderick Hunt;pictures by Alex Brychta   113.0  113.0\n",
            "by Mary Pope Osborne;illustrated by Sal Murdocca  112.0  112.0\n",
            "박완서 지음                                            110.0  110.0\n",
            "강준만 지음                                            109.0  109.0\n"
          ]
        }
      ]
    },
    {
      "cell_type": "markdown",
      "source": [
        "#문제 4"
      ],
      "metadata": {
        "id": "Bx3UcEqWyse5"
      }
    },
    {
      "cell_type": "code",
      "source": [
        "#문제: 인기 있는 주제 분류에 대한 2025년 4월과 2025년 5월에 대한 비교 그래프\n",
        "# 평가 기능/역량:두 개의 시계열 데이터 비교 처리\n",
        "import pandas as pd\n",
        "import matplotlib.pyplot as plt\n",
        "\n",
        "# CSV 파일 불러오기\n",
        "df_apr = pd.read_csv(\"성동구립도서관 장서 대출목록 (2025년 04월).csv\", encoding=\"cp949\")\n",
        "df_may = pd.read_csv(\"성동구립도서관 장서 대출목록 (2025년 05월).csv\", encoding=\"cp949\")\n",
        "\n",
        "# 열 이름 공백 제거\n",
        "df_apr.columns = df_apr.columns.str.strip()\n",
        "df_may.columns = df_may.columns.str.strip()\n",
        "\n",
        "# 주제분류번호별 대출 횟수 집계\n",
        "april_counts = df_apr['주제분류번호'].dropna().value_counts().rename(\"April\")\n",
        "may_counts = df_may['주제분류번호'].dropna().value_counts().rename(\"May\")\n",
        "\n",
        "# 두 시점의 데이터를 병합\n",
        "merged = pd.concat([april_counts, may_counts], axis=1).fillna(0)\n",
        "\n",
        "# 상위 10개 주제 기준 정렬 (5월 기준)\n",
        "top10_subjects = merged.sort_values(by=\"May\", ascending=False).head(10)\n",
        "\n",
        "# 시각화 (Grouped Bar Chart)\n",
        "top10_subjects.plot(kind='bar', figsize=(12,6), color=['salmon', 'skyblue'])\n",
        "plt.title(\"Top 10 Classification Code Comparison (Apr vs May 2025)\")\n",
        "plt.xlabel(\"Subject Classification Code\")\n",
        "plt.ylabel(\"Borrow Count\")\n",
        "plt.xticks(rotation=45)\n",
        "plt.grid(axis='y', linestyle='--', alpha=0.5)\n",
        "plt.tight_layout()\n",
        "plt.show()\n"
      ],
      "metadata": {
        "colab": {
          "base_uri": "https://localhost:8080/",
          "height": 680
        },
        "id": "t2jC9poOmVd7",
        "outputId": "bf5805c8-0ed4-47c8-fe6c-44d229ac80b9"
      },
      "execution_count": 2,
      "outputs": [
        {
          "output_type": "stream",
          "name": "stderr",
          "text": [
            "/tmp/ipython-input-2-821486245.py:7: DtypeWarning: Columns (5,8,9) have mixed types. Specify dtype option on import or set low_memory=False.\n",
            "  df_apr = pd.read_csv(\"성동구립도서관 장서 대출목록 (2025년 04월).csv\", encoding=\"cp949\")\n",
            "/tmp/ipython-input-2-821486245.py:8: DtypeWarning: Columns (5,8,9) have mixed types. Specify dtype option on import or set low_memory=False.\n",
            "  df_may = pd.read_csv(\"성동구립도서관 장서 대출목록 (2025년 05월).csv\", encoding=\"cp949\")\n"
          ]
        },
        {
          "output_type": "display_data",
          "data": {
            "text/plain": [
              "<Figure size 1200x600 with 1 Axes>"
            ],
            "image/png": "[encoded data removed]"
          },
          "metadata": {}
        }
      ]
    }
  ]
}